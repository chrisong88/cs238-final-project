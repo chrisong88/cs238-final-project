{
  "nbformat": 4,
  "nbformat_minor": 0,
  "metadata": {
    "colab": {
      "name": "STV.ipynb",
      "provenance": [],
      "collapsed_sections": [],
      "include_colab_link": true
    },
    "kernelspec": {
      "name": "python3",
      "display_name": "Python 3"
    },
    "language_info": {
      "name": "python"
    }
  },
  "cells": [
    {
      "cell_type": "markdown",
      "metadata": {
        "id": "view-in-github",
        "colab_type": "text"
      },
      "source": [
        "<a href=\"https://colab.research.google.com/github/chrisong88/cs238-final-project/blob/master/STV.ipynb\" target=\"_parent\"><img src=\"https://colab.research.google.com/assets/colab-badge.svg\" alt=\"Open In Colab\"/></a>"
      ]
    },
    {
      "cell_type": "code",
      "source": [
        "!pip install networkx\n",
        "\n",
        "from copy import deepcopy\n",
        "from random import randint\n",
        "from itertools import combinations, permutations\n",
        "\n",
        "import networkx as nx\n",
        "\n",
        "from collections import OrderedDict\n",
        "from sklearn.feature_extraction import DictVectorizer\n",
        "import numpy as np"
      ],
      "metadata": {
        "id": "818sfUWIC7mN",
        "colab": {
          "base_uri": "https://localhost:8080/"
        },
        "outputId": "c718a116-db85-40db-97c8-59f40f1915f6"
      },
      "execution_count": null,
      "outputs": [
        {
          "output_type": "stream",
          "name": "stdout",
          "text": [
            "Requirement already satisfied: networkx in /usr/local/lib/python3.7/dist-packages (2.6.3)\n"
          ]
        }
      ]
    },
    {
      "cell_type": "code",
      "source": [
        "# candidates, set of candidates\n",
        "# ballots, list of ballots\n",
        "# ballot: list of [quantity, [ranking]]\n",
        "# original: candidate that you wish to clone\n",
        "# Use Case: clones one candidate in a set of ballots, randomly chooses inter-clone ranking\n",
        "def generate_clones(candidates, ballots, original):\n",
        "    assert(original in candidates)\n",
        "    new_candidates = candidates.copy()\n",
        "    new_ballots = deepcopy(ballots)\n",
        "\n",
        "    # generate clone and insert it into list of candidates\n",
        "    clone = original + \"x\"\n",
        "    while (clone in new_candidates):\n",
        "        clone = clone + \"x\"\n",
        "    new_candidates.add(clone)\n",
        "\n",
        "    # insert clone into all ballots\n",
        "    for ballot in new_ballots:\n",
        "        index = ballot[1].index(original)\n",
        "        ballot[1].insert(index + randint(0, 1), clone)\n",
        "    return new_candidates, new_ballots\n",
        "\n",
        "# non-exhaustive checking that candidates and ballots match up\n",
        "def validate_inputs(candidates, ballots):\n",
        "    assert(type(candidates) == set)\n",
        "    assert(len(ballots) != 0)\n",
        "    assert(len(ballots[0][1]) == len(candidates))\n",
        "    assert(type(ballots) == list)\n",
        "    assert(type(ballots[0]) == list)\n",
        "\n"
      ],
      "metadata": {
        "id": "s5rCHToUIh1U"
      },
      "execution_count": null,
      "outputs": []
    },
    {
      "cell_type": "code",
      "execution_count": null,
      "metadata": {
        "id": "bS4ds0g6nKY2"
      },
      "outputs": [],
      "source": [
        "# IMPLEMENTING STV\n",
        "# Input Types: set(string, ...), list[list[int, list[string, ...]]]\n",
        "# Does not return\n",
        "def run_election(candidates_original, ballots_original):\n",
        "    candidates = deepcopy(candidates_original)\n",
        "    ballots = deepcopy(ballots_original)\n",
        "    validate_inputs(candidates, ballots)\n",
        "\n",
        "    round = 0\n",
        "\n",
        "    while (len(candidates) > 1):\n",
        "        first_place = {}\n",
        "\n",
        "        # initializing all first choice vote counts\n",
        "        for candidate in candidates:\n",
        "            first_place[candidate] = 0\n",
        "\n",
        "        # counting up first choice vote counts\n",
        "        for ballot in ballots:\n",
        "            first_place[ballot[1][0]] += ballot[0]\n",
        "        \n",
        "        # finding the loser to eliminate\n",
        "        loser = \"\"\n",
        "        loser_count = -1\n",
        "        for candidate in candidates:\n",
        "            # break ties alphabetically (any deterministic process works)\n",
        "            if loser_count == -1 or first_place[candidate] < loser_count or first_place[candidate] == loser_count and candidate < loser:\n",
        "                loser = candidate\n",
        "                loser_count = first_place[candidate]\n",
        "\n",
        "        # print(f\"Round {round} First Place Votes: {first_place}\")\n",
        "        \n",
        "        assert(loser != \"\")\n",
        "        assert(loser_count != -1)\n",
        "\n",
        "        print(f\"Candidate {loser} was eliminated\")\n",
        "\n",
        "        # Removing loser from ballots\n",
        "        candidates.remove(loser)\n",
        "        for ballot in ballots:\n",
        "            ballot[1].remove(loser)\n",
        "\n",
        "        round += 1\n",
        "    \n",
        "    for candidate in candidates:\n",
        "        print (f\"WINNER: Candidate {candidate}\")\n",
        "    \n",
        "    \n"
      ]
    },
    {
      "cell_type": "code",
      "source": [
        "# Test Cases\n",
        "\n",
        "candidates1 = {'A', 'B', 'C', 'D'}\n",
        "ballots1 = [\n",
        "    [5, ['A', 'B', 'C', 'D']],\n",
        "    [4, ['B', 'C', 'A', 'D']],\n",
        "    [3, ['C', 'D', 'A', 'B']],\n",
        "    [1, ['C', 'A', 'B', 'D']]\n",
        "]\n",
        "\n",
        "candidates2, ballots2 = generate_clones(candidates1, ballots1, 'B')\n",
        "candidates3, ballots3 = generate_clones(candidates2, ballots2, 'B')\n",
        "candidates4, ballots4 = generate_clones(candidates3, ballots3, 'D')\n",
        "candidates5, ballots5 = generate_clones(candidates4, ballots4, 'A')"
      ],
      "metadata": {
        "id": "qU1f6EGdtvo9"
      },
      "execution_count": 47,
      "outputs": []
    },
    {
      "cell_type": "code",
      "source": [
        "# Test Cases from Schulz Wikipedia\n",
        "\n",
        "candidates1 = {'A', 'B', 'C', 'D', 'E'}\n",
        "ballots1 = [\n",
        "    [5, ['A', 'C', 'B', 'E', 'D']],\n",
        "    [5, ['A', 'D', 'E', 'C', 'B']],\n",
        "    [8, ['B', 'E', 'D', 'A', 'C']],\n",
        "    [3, ['C', 'A', 'B', 'E', 'D']],\n",
        "    [7, ['C', 'A', 'E', 'B', 'D']],\n",
        "    [2, ['C', 'B', 'A', 'D', 'E']],\n",
        "    [7, ['D', 'C', 'E', 'B', 'A']],\n",
        "    [8, ['E', 'B', 'A', 'D', 'C']]\n",
        "]\n",
        "\n",
        "candidates2, ballots2 = generate_clones(candidates1, ballots1, 'B')\n",
        "candidates3, ballots3 = generate_clones(candidates2, ballots2, 'B')\n",
        "candidates4, ballots4 = generate_clones(candidates3, ballots3, 'D')\n",
        "candidates5, ballots5 = generate_clones(candidates4, ballots4, 'A')"
      ],
      "metadata": {
        "id": "z_JbQuLqM9L0"
      },
      "execution_count": 51,
      "outputs": []
    },
    {
      "cell_type": "code",
      "source": [
        "\n",
        "# STV Tests\n",
        "\n",
        "test_cases = [(candidates1, ballots1), (candidates2, ballots2), (candidates3, ballots3), \n",
        "              (candidates4, ballots4), (candidates5, ballots5)]\n",
        "\n",
        "for i in range(len(test_cases)):\n",
        "    print(\"Running Test Case \" + str(i))\n",
        "    run_election(test_cases[i][0], test_cases[i][1])\n",
        "    print()"
      ],
      "metadata": {
        "colab": {
          "base_uri": "https://localhost:8080/"
        },
        "id": "Hwhvc9a6woWO",
        "outputId": "0949acc8-f463-407e-aa77-d9210b17f8eb"
      },
      "execution_count": null,
      "outputs": [
        {
          "output_type": "stream",
          "name": "stdout",
          "text": [
            "Running Test Case 0\n",
            "Candidate D was eliminated\n",
            "Candidate B was eliminated\n",
            "Candidate A was eliminated\n",
            "Candidate E was eliminated\n",
            "WINNER: Candidate C\n",
            "\n",
            "Running Test Case 1\n",
            "Candidate B was eliminated\n",
            "Candidate D was eliminated\n",
            "Candidate Bx was eliminated\n",
            "Candidate A was eliminated\n",
            "Candidate E was eliminated\n",
            "WINNER: Candidate C\n",
            "\n",
            "Running Test Case 2\n",
            "Candidate B was eliminated\n",
            "Candidate Bxx was eliminated\n",
            "Candidate D was eliminated\n",
            "Candidate Bx was eliminated\n",
            "Candidate A was eliminated\n",
            "Candidate E was eliminated\n",
            "WINNER: Candidate C\n",
            "\n",
            "Running Test Case 3\n",
            "Candidate B was eliminated\n",
            "Candidate Bxx was eliminated\n",
            "Candidate Dx was eliminated\n",
            "Candidate D was eliminated\n",
            "Candidate Bx was eliminated\n",
            "Candidate A was eliminated\n",
            "Candidate E was eliminated\n",
            "WINNER: Candidate C\n",
            "\n",
            "Running Test Case 4\n",
            "Candidate B was eliminated\n",
            "Candidate Bxx was eliminated\n",
            "Candidate Dx was eliminated\n",
            "Candidate A was eliminated\n",
            "Candidate D was eliminated\n",
            "Candidate Bx was eliminated\n",
            "Candidate Ax was eliminated\n",
            "Candidate E was eliminated\n",
            "WINNER: Candidate C\n",
            "\n"
          ]
        }
      ]
    },
    {
      "cell_type": "code",
      "source": [
        "# IMPLEMENTING RANKED PAIRS\n",
        "\n",
        "def run_ranked_pairs(candidates_original, ballots_original, logging=\"\"):\n",
        "    candidates = deepcopy(candidates_original)\n",
        "    ballots = deepcopy(ballots_original)\n",
        "    validate_inputs(candidates, ballots)\n",
        "\n",
        "    score = {}\n",
        "\n",
        "    for combo in combinations(candidates, 2):\n",
        "        score[tuple(sorted(combo))] = 0\n",
        "\n",
        "    # print(score)\n",
        "\n",
        "    for count, ranking in ballots:\n",
        "        for i in range(len(ranking)):\n",
        "            for j in range(i+1, len(ranking)):\n",
        "                if (ranking[i] < ranking[j]):\n",
        "                    score[(ranking[i], ranking[j])] += count\n",
        "                    # if (ranking[i] == 'B' and ranking[j] == 'C'):\n",
        "                    #     print(f\"BC change: {count}\")\n",
        "                else:\n",
        "                    score[(ranking[j], ranking[i])] -= count\n",
        "                    # if (ranking[j] == 'B' and ranking[i] == 'C'):\n",
        "                    #     print(f\"BC change: {-count}\")\n",
        "\n",
        "    print(score)\n",
        "    new_d = OrderedDict(sorted(score.items(), key=lambda t: t[0]))\n",
        "    print(new_d)\n",
        "    \n",
        "    size = len(ranking)\n",
        "\n",
        "    # Create DictVectorizer object\n",
        "    dictvectorizer = DictVectorizer(sparse=False)\n",
        "\n",
        "    # Convert dictionary into feature matrix\n",
        "    features = dictvectorizer.fit_transform(new_d)\n",
        "    print(features)\n",
        "\n",
        "    pair_scores = []\n",
        "\n",
        "    for pair in score:\n",
        "        if score[pair] >= 0:\n",
        "            pair_scores.append((score[pair], pair))\n",
        "        else:\n",
        "            pair_scores.append((-score[pair], (pair[1], pair[0])))\n",
        "\n",
        "    pair_scores = sorted(pair_scores)\n",
        "\n",
        "    pair_scores.reverse()\n",
        "\n",
        "    # print(pair_scores)\n",
        "\n",
        "    G = nx.DiGraph()\n",
        "\n",
        "    i = 0\n",
        "    while len(candidates) > 1:\n",
        "        assert(i < len(pair_scores))\n",
        "        pair = pair_scores[i][1]\n",
        "        G.add_edge(pair[0], pair[1])\n",
        "        if len(list(nx.simple_cycles(G))) > 0:\n",
        "            G.remove_edge(pair[0], pair[1])\n",
        "            if logging == \"edges\":\n",
        "                print(f\"Discarded edge {pair[0], pair[1]}\")\n",
        "        else:\n",
        "            if logging == \"edges\":\n",
        "                print(f\"Added edge {pair[0], pair[1]}\")\n",
        "            if (pair[1] in candidates):\n",
        "                candidates.remove(pair[1])\n",
        "                if logging == \"candidates\":\n",
        "                    print(f\"Eliminated candidate {pair[1]}\")\n",
        "        i += 1\n",
        "\n",
        "    for candidate in candidates:\n",
        "        print(f\"WINNER: {candidate}\")\n",
        "\n",
        "        m = nx.adjacency_matrix(G)\n",
        "        print(m.todense())"
      ],
      "metadata": {
        "id": "tdNsMdyKIR_W"
      },
      "execution_count": 49,
      "outputs": []
    },
    {
      "cell_type": "code",
      "source": [
        "\n",
        "# run_ranked_pairs(candidates1, ballots1, \"edges\")\n",
        "\n",
        "test_cases = [(candidates1, ballots1), (candidates2, ballots2), (candidates3, ballots3), \n",
        "              (candidates4, ballots4), (candidates5, ballots5)]\n",
        "\n",
        "for i in range(len(test_cases)):\n",
        "    print(\"Running Test Case \" + str(i))\n",
        "    run_ranked_pairs(test_cases[i][0], test_cases[i][1], \"edges\")\n",
        "    print()"
      ],
      "metadata": {
        "colab": {
          "base_uri": "https://localhost:8080/"
        },
        "id": "Mf7ERp1k6ppR",
        "outputId": "197cc20c-7048-4995-be35-6dab5a0b1c60"
      },
      "execution_count": 52,
      "outputs": [
        {
          "output_type": "stream",
          "name": "stdout",
          "text": [
            "Running Test Case 0\n",
            "{('A', 'D'): 15, ('C', 'D'): -11, ('D', 'E'): -17, ('B', 'D'): 21, ('A', 'C'): 7, ('A', 'E'): -1, ('A', 'B'): -5, ('C', 'E'): 3, ('B', 'C'): -13, ('B', 'E'): -9}\n",
            "OrderedDict([(('A', 'B'), -5), (('A', 'C'), 7), (('A', 'D'), 15), (('A', 'E'), -1), (('B', 'C'), -13), (('B', 'D'), 21), (('B', 'E'), -9), (('C', 'D'), -11), (('C', 'E'), 3), (('D', 'E'), -17)])\n",
            "[[ -5.   7.  15.  -1. -13.  21.  -9. -11.   3. -17.]]\n",
            "Added edge ('B', 'D')\n",
            "Added edge ('E', 'D')\n",
            "Added edge ('A', 'D')\n",
            "Added edge ('C', 'B')\n",
            "Discarded edge ('D', 'C')\n",
            "Added edge ('E', 'B')\n",
            "Added edge ('A', 'C')\n",
            "Discarded edge ('B', 'A')\n",
            "Added edge ('C', 'E')\n",
            "WINNER: A\n",
            "[[0 1 0 0 0]\n",
            " [0 0 0 0 0]\n",
            " [1 1 0 0 0]\n",
            " [0 1 0 0 1]\n",
            " [1 0 1 0 0]]\n",
            "\n",
            "Running Test Case 1\n",
            "{('A', 'D'): 15, ('C', 'D'): -11, ('Bx', 'D'): 21, ('D', 'E'): -17, ('B', 'D'): 21, ('A', 'C'): 7, ('A', 'Bx'): -5, ('A', 'E'): -1, ('A', 'B'): -5, ('Bx', 'C'): -13, ('C', 'E'): 3, ('B', 'C'): -13, ('Bx', 'E'): -9, ('B', 'Bx'): 23, ('B', 'E'): -9}\n",
            "OrderedDict([(('A', 'B'), -5), (('A', 'Bx'), -5), (('A', 'C'), 7), (('A', 'D'), 15), (('A', 'E'), -1), (('B', 'Bx'), 23), (('B', 'C'), -13), (('B', 'D'), 21), (('B', 'E'), -9), (('Bx', 'C'), -13), (('Bx', 'D'), 21), (('Bx', 'E'), -9), (('C', 'D'), -11), (('C', 'E'), 3), (('D', 'E'), -17)])\n",
            "[[ -5.  -5.   7.  15.  -1.  23. -13.  21.  -9. -13.  21.  -9. -11.   3.\n",
            "  -17.]]\n",
            "Added edge ('B', 'Bx')\n",
            "Added edge ('Bx', 'D')\n",
            "Added edge ('B', 'D')\n",
            "Added edge ('E', 'D')\n",
            "Added edge ('A', 'D')\n",
            "Added edge ('C', 'Bx')\n",
            "Added edge ('C', 'B')\n",
            "Discarded edge ('D', 'C')\n",
            "Added edge ('E', 'Bx')\n",
            "Added edge ('E', 'B')\n",
            "Added edge ('A', 'C')\n",
            "Discarded edge ('Bx', 'A')\n",
            "Discarded edge ('B', 'A')\n",
            "Added edge ('C', 'E')\n",
            "WINNER: A\n",
            "[[0 1 1 0 0 0]\n",
            " [0 0 1 0 0 0]\n",
            " [0 0 0 0 0 0]\n",
            " [1 1 1 0 0 0]\n",
            " [0 0 1 0 0 1]\n",
            " [1 1 0 1 0 0]]\n",
            "\n",
            "Running Test Case 2\n",
            "{('Bxx', 'D'): 21, ('A', 'D'): 15, ('C', 'D'): -11, ('Bx', 'D'): 21, ('D', 'E'): -17, ('B', 'D'): 21, ('A', 'Bxx'): -5, ('Bxx', 'C'): -13, ('Bx', 'Bxx'): -23, ('Bxx', 'E'): -9, ('B', 'Bxx'): -15, ('A', 'C'): 7, ('A', 'Bx'): -5, ('A', 'E'): -1, ('A', 'B'): -5, ('Bx', 'C'): -13, ('C', 'E'): 3, ('B', 'C'): -13, ('Bx', 'E'): -9, ('B', 'Bx'): 23, ('B', 'E'): -9}\n",
            "OrderedDict([(('A', 'B'), -5), (('A', 'Bx'), -5), (('A', 'Bxx'), -5), (('A', 'C'), 7), (('A', 'D'), 15), (('A', 'E'), -1), (('B', 'Bx'), 23), (('B', 'Bxx'), -15), (('B', 'C'), -13), (('B', 'D'), 21), (('B', 'E'), -9), (('Bx', 'Bxx'), -23), (('Bx', 'C'), -13), (('Bx', 'D'), 21), (('Bx', 'E'), -9), (('Bxx', 'C'), -13), (('Bxx', 'D'), 21), (('Bxx', 'E'), -9), (('C', 'D'), -11), (('C', 'E'), 3), (('D', 'E'), -17)])\n",
            "[[ -5.  -5.  -5.   7.  15.  -1.  23. -15. -13.  21.  -9. -23. -13.  21.\n",
            "   -9. -13.  21.  -9. -11.   3. -17.]]\n",
            "Added edge ('Bxx', 'Bx')\n",
            "Added edge ('B', 'Bx')\n",
            "Added edge ('Bxx', 'D')\n",
            "Added edge ('Bx', 'D')\n",
            "Added edge ('B', 'D')\n",
            "Added edge ('E', 'D')\n",
            "Added edge ('Bxx', 'B')\n",
            "Added edge ('A', 'D')\n",
            "Added edge ('C', 'Bxx')\n",
            "Added edge ('C', 'Bx')\n",
            "Added edge ('C', 'B')\n",
            "Discarded edge ('D', 'C')\n",
            "Added edge ('E', 'Bxx')\n",
            "Added edge ('E', 'Bx')\n",
            "Added edge ('E', 'B')\n",
            "Added edge ('A', 'C')\n",
            "Discarded edge ('Bxx', 'A')\n",
            "Discarded edge ('Bx', 'A')\n",
            "Discarded edge ('B', 'A')\n",
            "Added edge ('C', 'E')\n",
            "WINNER: A\n",
            "[[0 1 1 1 0 0 0]\n",
            " [0 0 0 1 0 0 0]\n",
            " [0 1 0 1 0 0 0]\n",
            " [0 0 0 0 0 0 0]\n",
            " [1 1 1 1 0 0 0]\n",
            " [0 0 0 1 0 0 1]\n",
            " [1 1 1 0 1 0 0]]\n",
            "\n",
            "Running Test Case 3\n",
            "{('Bxx', 'D'): 21, ('A', 'D'): 15, ('D', 'Dx'): -31, ('C', 'D'): -11, ('Bx', 'D'): 21, ('D', 'E'): -17, ('B', 'D'): 21, ('A', 'Bxx'): -5, ('Bxx', 'Dx'): 21, ('Bxx', 'C'): -13, ('Bx', 'Bxx'): -23, ('Bxx', 'E'): -9, ('B', 'Bxx'): -15, ('A', 'Dx'): 15, ('A', 'C'): 7, ('A', 'Bx'): -5, ('A', 'E'): -1, ('A', 'B'): -5, ('C', 'Dx'): -11, ('Bx', 'Dx'): 21, ('Dx', 'E'): -17, ('B', 'Dx'): 21, ('Bx', 'C'): -13, ('C', 'E'): 3, ('B', 'C'): -13, ('Bx', 'E'): -9, ('B', 'Bx'): 23, ('B', 'E'): -9}\n",
            "OrderedDict([(('A', 'B'), -5), (('A', 'Bx'), -5), (('A', 'Bxx'), -5), (('A', 'C'), 7), (('A', 'D'), 15), (('A', 'Dx'), 15), (('A', 'E'), -1), (('B', 'Bx'), 23), (('B', 'Bxx'), -15), (('B', 'C'), -13), (('B', 'D'), 21), (('B', 'Dx'), 21), (('B', 'E'), -9), (('Bx', 'Bxx'), -23), (('Bx', 'C'), -13), (('Bx', 'D'), 21), (('Bx', 'Dx'), 21), (('Bx', 'E'), -9), (('Bxx', 'C'), -13), (('Bxx', 'D'), 21), (('Bxx', 'Dx'), 21), (('Bxx', 'E'), -9), (('C', 'D'), -11), (('C', 'Dx'), -11), (('C', 'E'), 3), (('D', 'Dx'), -31), (('D', 'E'), -17), (('Dx', 'E'), -17)])\n",
            "[[ -5.  -5.  -5.   7.  15.  15.  -1.  23. -15. -13.  21.  21.  -9. -23.\n",
            "  -13.  21.  21.  -9. -13.  21.  21.  -9. -11. -11.   3. -31. -17. -17.]]\n",
            "Added edge ('Dx', 'D')\n",
            "Added edge ('Bxx', 'Bx')\n",
            "Added edge ('B', 'Bx')\n",
            "Added edge ('Bxx', 'Dx')\n",
            "Added edge ('Bxx', 'D')\n",
            "Added edge ('Bx', 'Dx')\n",
            "Added edge ('Bx', 'D')\n",
            "Added edge ('B', 'Dx')\n",
            "Added edge ('B', 'D')\n",
            "Added edge ('E', 'Dx')\n",
            "Added edge ('E', 'D')\n",
            "Added edge ('Bxx', 'B')\n",
            "Added edge ('A', 'Dx')\n",
            "Added edge ('A', 'D')\n",
            "Added edge ('C', 'Bxx')\n",
            "Added edge ('C', 'Bx')\n",
            "Added edge ('C', 'B')\n",
            "Discarded edge ('Dx', 'C')\n",
            "Discarded edge ('D', 'C')\n",
            "Added edge ('E', 'Bxx')\n",
            "Added edge ('E', 'Bx')\n",
            "Added edge ('E', 'B')\n",
            "Added edge ('A', 'C')\n",
            "Discarded edge ('Bxx', 'A')\n",
            "Discarded edge ('Bx', 'A')\n",
            "Discarded edge ('B', 'A')\n",
            "Added edge ('C', 'E')\n",
            "WINNER: A\n",
            "[[0 1 0 0 0 0 0 0]\n",
            " [0 0 0 0 0 0 0 0]\n",
            " [1 1 0 1 1 0 0 0]\n",
            " [1 1 0 0 0 0 0 0]\n",
            " [1 1 0 1 0 0 0 0]\n",
            " [1 1 1 1 1 0 0 0]\n",
            " [1 1 0 0 0 0 0 1]\n",
            " [0 0 1 1 1 1 0 0]]\n",
            "\n",
            "Running Test Case 4\n",
            "{('Bxx', 'D'): 21, ('A', 'D'): 15, ('Ax', 'D'): 15, ('D', 'Dx'): -31, ('C', 'D'): -11, ('Bx', 'D'): 21, ('D', 'E'): -17, ('B', 'D'): 21, ('A', 'Bxx'): -5, ('Ax', 'Bxx'): -5, ('Bxx', 'Dx'): 21, ('Bxx', 'C'): -13, ('Bx', 'Bxx'): -23, ('Bxx', 'E'): -9, ('B', 'Bxx'): -15, ('A', 'Ax'): -5, ('A', 'Dx'): 15, ('A', 'C'): 7, ('A', 'Bx'): -5, ('A', 'E'): -1, ('A', 'B'): -5, ('Ax', 'Dx'): 15, ('Ax', 'C'): 7, ('Ax', 'Bx'): -5, ('Ax', 'E'): -1, ('Ax', 'B'): -5, ('C', 'Dx'): -11, ('Bx', 'Dx'): 21, ('Dx', 'E'): -17, ('B', 'Dx'): 21, ('Bx', 'C'): -13, ('C', 'E'): 3, ('B', 'C'): -13, ('Bx', 'E'): -9, ('B', 'Bx'): 23, ('B', 'E'): -9}\n",
            "OrderedDict([(('A', 'Ax'), -5), (('A', 'B'), -5), (('A', 'Bx'), -5), (('A', 'Bxx'), -5), (('A', 'C'), 7), (('A', 'D'), 15), (('A', 'Dx'), 15), (('A', 'E'), -1), (('Ax', 'B'), -5), (('Ax', 'Bx'), -5), (('Ax', 'Bxx'), -5), (('Ax', 'C'), 7), (('Ax', 'D'), 15), (('Ax', 'Dx'), 15), (('Ax', 'E'), -1), (('B', 'Bx'), 23), (('B', 'Bxx'), -15), (('B', 'C'), -13), (('B', 'D'), 21), (('B', 'Dx'), 21), (('B', 'E'), -9), (('Bx', 'Bxx'), -23), (('Bx', 'C'), -13), (('Bx', 'D'), 21), (('Bx', 'Dx'), 21), (('Bx', 'E'), -9), (('Bxx', 'C'), -13), (('Bxx', 'D'), 21), (('Bxx', 'Dx'), 21), (('Bxx', 'E'), -9), (('C', 'D'), -11), (('C', 'Dx'), -11), (('C', 'E'), 3), (('D', 'Dx'), -31), (('D', 'E'), -17), (('Dx', 'E'), -17)])\n",
            "[[ -5.  -5.  -5.  -5.   7.  15.  15.  -1.  -5.  -5.  -5.   7.  15.  15.\n",
            "   -1.  23. -15. -13.  21.  21.  -9. -23. -13.  21.  21.  -9. -13.  21.\n",
            "   21.  -9. -11. -11.   3. -31. -17. -17.]]\n",
            "Added edge ('Dx', 'D')\n",
            "Added edge ('Bxx', 'Bx')\n",
            "Added edge ('B', 'Bx')\n",
            "Added edge ('Bxx', 'Dx')\n",
            "Added edge ('Bxx', 'D')\n",
            "Added edge ('Bx', 'Dx')\n",
            "Added edge ('Bx', 'D')\n",
            "Added edge ('B', 'Dx')\n",
            "Added edge ('B', 'D')\n",
            "Added edge ('E', 'Dx')\n",
            "Added edge ('E', 'D')\n",
            "Added edge ('Bxx', 'B')\n",
            "Added edge ('Ax', 'Dx')\n",
            "Added edge ('Ax', 'D')\n",
            "Added edge ('A', 'Dx')\n",
            "Added edge ('A', 'D')\n",
            "Added edge ('C', 'Bxx')\n",
            "Added edge ('C', 'Bx')\n",
            "Added edge ('C', 'B')\n",
            "Discarded edge ('Dx', 'C')\n",
            "Discarded edge ('D', 'C')\n",
            "Added edge ('E', 'Bxx')\n",
            "Added edge ('E', 'Bx')\n",
            "Added edge ('E', 'B')\n",
            "Added edge ('Ax', 'C')\n",
            "Added edge ('A', 'C')\n",
            "Discarded edge ('Bxx', 'Ax')\n",
            "Discarded edge ('Bxx', 'A')\n",
            "Discarded edge ('Bx', 'Ax')\n",
            "Discarded edge ('Bx', 'A')\n",
            "Discarded edge ('B', 'Ax')\n",
            "Discarded edge ('B', 'A')\n",
            "Added edge ('Ax', 'A')\n",
            "Added edge ('C', 'E')\n",
            "WINNER: Ax\n",
            "[[0 1 0 0 0 0 0 0 0]\n",
            " [0 0 0 0 0 0 0 0 0]\n",
            " [1 1 0 1 1 0 0 0 0]\n",
            " [1 1 0 0 0 0 0 0 0]\n",
            " [1 1 0 1 0 0 0 0 0]\n",
            " [1 1 1 1 1 0 0 0 0]\n",
            " [1 1 0 0 0 0 0 1 1]\n",
            " [1 1 0 0 0 0 0 0 1]\n",
            " [0 0 1 1 1 1 0 0 0]]\n",
            "\n"
          ]
        }
      ]
    },
    {
      "cell_type": "code",
      "source": [
        "ballots1"
      ],
      "metadata": {
        "colab": {
          "base_uri": "https://localhost:8080/"
        },
        "id": "fq8UAKX27eYO",
        "outputId": "ab6528d7-a07b-461c-93f5-fffbffde4104"
      },
      "execution_count": null,
      "outputs": [
        {
          "output_type": "execute_result",
          "data": {
            "text/plain": [
              "[[5, ['A', 'B', 'C', 'D', 'E']],\n",
              " [5, ['A', 'D', 'E', 'C', 'B']],\n",
              " [8, ['B', 'E', 'D', 'A', 'C']],\n",
              " [3, ['C', 'A', 'B', 'E', 'D']],\n",
              " [7, ['C', 'A', 'E', 'B', 'D']],\n",
              " [2, ['C', 'B', 'A', 'D', 'E']],\n",
              " [7, ['D', 'C', 'E', 'B', 'A']],\n",
              " [8, ['E', 'B', 'A', 'D', 'C']]]"
            ]
          },
          "metadata": {},
          "execution_count": 34
        }
      ]
    },
    {
      "cell_type": "code",
      "source": [
        "# IMPLEMENTING SCHULTZE\n",
        "\n",
        "# generalizable minimum function\n",
        "def get_min(first_tuple, second_tuple):\n",
        "    if first_tuple[0] < second_tuple[0]:\n",
        "        return first_tuple\n",
        "    else:\n",
        "        return second_tuple\n",
        "\n",
        "\n",
        "def run_schultze(candidates_original, ballots_original):\n",
        "    candidates = deepcopy(candidates_original)\n",
        "    ballots = deepcopy(ballots_original)\n",
        "    validate_inputs(candidates, ballots)\n",
        "\n",
        "    score = {}\n",
        "\n",
        "    for pair in permutations(candidates, 2):\n",
        "        score[pair] = 0\n",
        "\n",
        "    # print(score)\n",
        "    \n",
        "    for count, ranking in ballots:\n",
        "        for i in range(len(ranking)):\n",
        "            for j in range(i+1, len(ranking)):\n",
        "                score[(ranking[i], ranking[j])] += count\n",
        "\n",
        "    P = {}\n",
        "    pred = {}\n",
        "\n",
        "    candidates = list(candidates)\n",
        "\n",
        "    # Initialization\n",
        "    for i in range(len(candidates)):\n",
        "        for j in range(len(candidates)):\n",
        "            if i != j:\n",
        "                P[candidates[i], candidates[j]] = (score[candidates[i], candidates[j]], score[candidates[j], candidates[i]])\n",
        "                pred[candidates[i], candidates[j]] = candidates[i]\n",
        "\n",
        "    # Calculation of Strength of Strongest Paths\n",
        "    for i in range(len(candidates)):\n",
        "        for j in range(len(candidates)):\n",
        "            for k in range(len(candidates)):\n",
        "                if i != j and j != k and i != k:\n",
        "                    # winning votes -> \n",
        "                    if P[candidates[j], candidates[k]][0] < get_min(P[candidates[j], candidates[i]], P[candidates[i], candidates[k]])[0]:\n",
        "                        P[candidates[j], candidates[k]] = get_min(P[candidates[j], candidates[i]], P[candidates[i], candidates[k]])\n",
        "                        pred[candidates[j], candidates[k]] = pred[candidates[i], candidates[k]]\n",
        "\n",
        "    winner = {}\n",
        "\n",
        "    # Calculation of Winners\n",
        "    for i in range(len(candidates)):\n",
        "        winner[candidates[i]] = True\n",
        "        for j in range(len(candidates)):\n",
        "            if i != j and P[candidates[j], candidates[i]][0] > P[candidates[i], candidates[j]][0]:\n",
        "                winner[candidates[i]] = False\n",
        "\n",
        "    for candidate in winner:\n",
        "        if winner[candidate]:\n",
        "            print(f\"WINNER: {candidate}\")"
      ],
      "metadata": {
        "id": "BWiTe7zLys4P"
      },
      "execution_count": null,
      "outputs": []
    },
    {
      "cell_type": "code",
      "source": [
        "# run_schultze(candidates1, ballots1)\n",
        "\n",
        "for i in range(len(test_cases)):\n",
        "    print(\"Running Test Case \" + str(i))\n",
        "    run_schultze(test_cases[i][0], test_cases[i][1])\n",
        "    print()"
      ],
      "metadata": {
        "colab": {
          "base_uri": "https://localhost:8080/"
        },
        "id": "NaA7K2kU_iZs",
        "outputId": "c4618b66-d4c9-4e22-806b-23a8cbd93940"
      },
      "execution_count": null,
      "outputs": [
        {
          "output_type": "stream",
          "name": "stdout",
          "text": [
            "Running Test Case 0\n",
            "WINNER: E\n",
            "\n",
            "Running Test Case 1\n",
            "WINNER: E\n",
            "\n",
            "Running Test Case 2\n",
            "WINNER: E\n",
            "\n",
            "Running Test Case 3\n",
            "WINNER: E\n",
            "\n",
            "Running Test Case 4\n",
            "WINNER: E\n",
            "\n"
          ]
        }
      ]
    },
    {
      "cell_type": "code",
      "source": [
        "for combo in combinations([1, 2, 3, 4], 2):\n",
        "    print(combo)"
      ],
      "metadata": {
        "id": "IfDESYRxJQZ2",
        "colab": {
          "base_uri": "https://localhost:8080/"
        },
        "outputId": "7190ae4f-e5a9-4b93-88d0-c242864d5837"
      },
      "execution_count": null,
      "outputs": [
        {
          "output_type": "stream",
          "name": "stdout",
          "text": [
            "(1, 2)\n",
            "(1, 3)\n",
            "(1, 4)\n",
            "(2, 3)\n",
            "(2, 4)\n",
            "(3, 4)\n"
          ]
        }
      ]
    },
    {
      "cell_type": "code",
      "source": [
        "# sorted(['A', 'B', 'C', 'D', 'E', 'F', 'Bx'])"
      ],
      "metadata": {
        "colab": {
          "base_uri": "https://localhost:8080/"
        },
        "id": "2yb9tdfl5BFx",
        "outputId": "908e9b23-d441-461a-c375-d10c4964520f"
      },
      "execution_count": null,
      "outputs": [
        {
          "output_type": "execute_result",
          "data": {
            "text/plain": [
              "['A', 'B', 'Bx', 'C', 'D', 'E', 'F']"
            ]
          },
          "metadata": {},
          "execution_count": 12
        }
      ]
    },
    {
      "cell_type": "code",
      "source": [
        "tuple(['A', 'B', 'C'])"
      ],
      "metadata": {
        "colab": {
          "base_uri": "https://localhost:8080/"
        },
        "id": "JpNmhYJu5UwA",
        "outputId": "a7c3e09e-aa81-4b1b-e674-09ae358c23a1"
      },
      "execution_count": null,
      "outputs": [
        {
          "output_type": "execute_result",
          "data": {
            "text/plain": [
              "('A', 'B', 'C')"
            ]
          },
          "metadata": {},
          "execution_count": 13
        }
      ]
    },
    {
      "cell_type": "code",
      "source": [
        "# sorted((1, 3))"
      ],
      "metadata": {
        "colab": {
          "base_uri": "https://localhost:8080/"
        },
        "id": "_zWu1DDY6D-g",
        "outputId": "073d2a5d-e623-46c2-c5af-4921d1f6b6fa"
      },
      "execution_count": null,
      "outputs": [
        {
          "output_type": "execute_result",
          "data": {
            "text/plain": [
              "[1, 3]"
            ]
          },
          "metadata": {},
          "execution_count": 27
        }
      ]
    },
    {
      "cell_type": "code",
      "source": [
        "'A' < 'B'"
      ],
      "metadata": {
        "colab": {
          "base_uri": "https://localhost:8080/"
        },
        "id": "bYEkJwkv7Dej",
        "outputId": "0c3a4a2e-6a43-40f5-f96e-a4f780094e81"
      },
      "execution_count": null,
      "outputs": [
        {
          "output_type": "execute_result",
          "data": {
            "text/plain": [
              "True"
            ]
          },
          "metadata": {},
          "execution_count": 42
        }
      ]
    },
    {
      "cell_type": "code",
      "source": [
        ""
      ],
      "metadata": {
        "id": "QpRJmjip7ow4"
      },
      "execution_count": null,
      "outputs": []
    }
  ]
}